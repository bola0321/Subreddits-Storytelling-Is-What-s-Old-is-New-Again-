{
 "cells": [
  {
   "cell_type": "markdown",
   "id": "425b9a3d-633b-4645-8cc8-096140332ca5",
   "metadata": {},
   "source": [
    "# Data Cleaning and EDA"
   ]
  },
  {
   "cell_type": "code",
   "execution_count": 17,
   "id": "c7b91f44-8731-473b-b611-4514d05e239c",
   "metadata": {},
   "outputs": [],
   "source": [
    "#Imports\n",
    "import pandas as pd\n",
    "import numpy as np\n",
    "import matplotlib.pyplot as plt\n",
    "\n",
    "\n",
    "import nltk\n",
    "from nltk.tokenize import sent_tokenize, word_tokenize, RegexpTokenizer\n",
    "from nltk.stem import PorterStemmer, WordNetLemmatizer\n",
    "from nltk.corpus import stopwords, wordnet\n",
    "from nltk.sentiment.vader import SentimentIntensityAnalyzer"
   ]
  },
  {
   "cell_type": "markdown",
   "id": "8f9b6088-17e5-4982-91e8-e32ef257132b",
   "metadata": {},
   "source": [
    "#### Process of cleaning \n",
    "\n",
    "* We'll clean this small bit of data first so that we can make some functions that can quickly clean our other data before we combine everything into one dataframe.\n",
    "* For our purposes, it doesn't make much sense to keep posts that are null in the \"selftext\" column.\n",
    "* Next, I will remove any rows where this is the case. We'll also rename the \"Unnamed: 0\" column to \"post_id\".\n",
    "* Using the newly named \"post_id \"deduplicate the data.\n",
    "* Also, let's remove the \"comments\", utc, and title columns. Pulled these in just in case, but for now, I am not planning to access them.\n",
    "* I'll add a column that assign 0/1 values for the subreddit: 0 for the rpg subreddit, 1 for the osr subreddit"
   ]
  },
  {
   "cell_type": "code",
   "execution_count": 35,
   "id": "376413ce-9e00-4f14-afa5-067e73885cbf",
   "metadata": {},
   "outputs": [
    {
     "data": {
      "text/plain": [
       "(243, 6)"
      ]
     },
     "execution_count": 35,
     "metadata": {},
     "output_type": "execute_result"
    }
   ],
   "source": [
    "df_osr = pd.read_csv(\"./data/osr_0-243.csv\")\n",
    "\n",
    "df_osr.head()\n",
    "df_osr.shape"
   ]
  },
  {
   "cell_type": "markdown",
   "id": "e202f30b-ac44-465e-90c4-7324c0897aa9",
   "metadata": {},
   "source": [
    "#### For our purposes, it doesn't make much sense to keep posts that are null in the \"selftext\" column. I will remove any rows where this is the case. We'll also rename the \"Unnamed: 0\" column to \"post_id\"."
   ]
  },
  {
   "cell_type": "code",
   "execution_count": 36,
   "id": "085e6dda-a7ea-40b1-a678-04dfbec4ba57",
   "metadata": {},
   "outputs": [],
   "source": [
    "df_osr = df_osr.dropna(subset=\"selftext\")\n",
    "df_osr = df_osr.rename(columns={\"Unnamed: 0\": \"post_id\"})"
   ]
  },
  {
   "cell_type": "code",
   "execution_count": 37,
   "id": "fe4a2e3a-320f-4909-a8ea-cf3debab324b",
   "metadata": {},
   "outputs": [
    {
     "data": {
      "text/html": [
       "<div>\n",
       "<style scoped>\n",
       "    .dataframe tbody tr th:only-of-type {\n",
       "        vertical-align: middle;\n",
       "    }\n",
       "\n",
       "    .dataframe tbody tr th {\n",
       "        vertical-align: top;\n",
       "    }\n",
       "\n",
       "    .dataframe thead th {\n",
       "        text-align: right;\n",
       "    }\n",
       "</style>\n",
       "<table border=\"1\" class=\"dataframe\">\n",
       "  <thead>\n",
       "    <tr style=\"text-align: right;\">\n",
       "      <th></th>\n",
       "      <th>post_id</th>\n",
       "      <th>title</th>\n",
       "      <th>selftext</th>\n",
       "      <th>comments</th>\n",
       "      <th>subreddit</th>\n",
       "      <th>created_utc</th>\n",
       "    </tr>\n",
       "  </thead>\n",
       "  <tbody>\n",
       "    <tr>\n",
       "      <th>0</th>\n",
       "      <td>1fee7z0</td>\n",
       "      <td>[Review] Old School Essentials</td>\n",
       "      <td>I wrote up an [exhaustive review and analysis]...</td>\n",
       "      <td>&lt;praw.models.comment_forest.CommentForest obje...</td>\n",
       "      <td>osr</td>\n",
       "      <td>1.726072e+09</td>\n",
       "    </tr>\n",
       "    <tr>\n",
       "      <th>4</th>\n",
       "      <td>1g9qvf9</td>\n",
       "      <td>[Review] Incandescent Grottoes</td>\n",
       "      <td>I put together a *very thorough* [review of In...</td>\n",
       "      <td>&lt;praw.models.comment_forest.CommentForest obje...</td>\n",
       "      <td>osr</td>\n",
       "      <td>1.729626e+09</td>\n",
       "    </tr>\n",
       "    <tr>\n",
       "      <th>7</th>\n",
       "      <td>1h15axs</td>\n",
       "      <td>[Review] Winter's Daughter</td>\n",
       "      <td>My group played through Winter's Daughter not ...</td>\n",
       "      <td>&lt;praw.models.comment_forest.CommentForest obje...</td>\n",
       "      <td>osr</td>\n",
       "      <td>1.732717e+09</td>\n",
       "    </tr>\n",
       "    <tr>\n",
       "      <th>8</th>\n",
       "      <td>tqdq72</td>\n",
       "      <td>5e only players reviewing Original or OSR is w...</td>\n",
       "      <td>Note: This is not a bash of 5e. This is not a ...</td>\n",
       "      <td>&lt;praw.models.comment_forest.CommentForest obje...</td>\n",
       "      <td>osr</td>\n",
       "      <td>1.648486e+09</td>\n",
       "    </tr>\n",
       "    <tr>\n",
       "      <th>9</th>\n",
       "      <td>1im6q5c</td>\n",
       "      <td>Playful Void reviewed my debut adventure module</td>\n",
       "      <td>https://playfulvoid.game.blog/2025/02/10/batht...</td>\n",
       "      <td>&lt;praw.models.comment_forest.CommentForest obje...</td>\n",
       "      <td>osr</td>\n",
       "      <td>1.739196e+09</td>\n",
       "    </tr>\n",
       "  </tbody>\n",
       "</table>\n",
       "</div>"
      ],
      "text/plain": [
       "   post_id                                              title  \\\n",
       "0  1fee7z0                     [Review] Old School Essentials   \n",
       "4  1g9qvf9                     [Review] Incandescent Grottoes   \n",
       "7  1h15axs                         [Review] Winter's Daughter   \n",
       "8   tqdq72  5e only players reviewing Original or OSR is w...   \n",
       "9  1im6q5c    Playful Void reviewed my debut adventure module   \n",
       "\n",
       "                                            selftext  \\\n",
       "0  I wrote up an [exhaustive review and analysis]...   \n",
       "4  I put together a *very thorough* [review of In...   \n",
       "7  My group played through Winter's Daughter not ...   \n",
       "8  Note: This is not a bash of 5e. This is not a ...   \n",
       "9  https://playfulvoid.game.blog/2025/02/10/batht...   \n",
       "\n",
       "                                            comments subreddit   created_utc  \n",
       "0  <praw.models.comment_forest.CommentForest obje...       osr  1.726072e+09  \n",
       "4  <praw.models.comment_forest.CommentForest obje...       osr  1.729626e+09  \n",
       "7  <praw.models.comment_forest.CommentForest obje...       osr  1.732717e+09  \n",
       "8  <praw.models.comment_forest.CommentForest obje...       osr  1.648486e+09  \n",
       "9  <praw.models.comment_forest.CommentForest obje...       osr  1.739196e+09  "
      ]
     },
     "execution_count": 37,
     "metadata": {},
     "output_type": "execute_result"
    }
   ],
   "source": [
    "df_osr.isna().sum()\n",
    "df_osr.shape\n",
    "df_osr.head()"
   ]
  },
  {
   "cell_type": "markdown",
   "id": "2125d598-6e81-4bb6-a305-6fdbc54ff83d",
   "metadata": {},
   "source": [
    "#### Using the newly named \"post_id \"deduplicate the data. Also, let's remove the \"comments\", utc, and title columns. Pulled these in just in case, but for now, I am not planning to access them."
   ]
  },
  {
   "cell_type": "code",
   "execution_count": 46,
   "id": "bff26ba2-a7c2-4b66-a129-7d4a4fbe4a3e",
   "metadata": {},
   "outputs": [],
   "source": [
    "df_osr.drop_duplicates(subset=\"post_id\")\n",
    "df_osr = df_osr.drop(columns=[\"comments\", \"title\",\"created_utc\"])\n",
    "df_osr[\"is_osr\"] = df_osr[\"subreddit\"].map({\"rpg\": 0, \"osr\": 1})"
   ]
  },
  {
   "cell_type": "code",
   "execution_count": 47,
   "id": "9256938e-b04d-42b2-abf7-fb2d61a1873d",
   "metadata": {},
   "outputs": [
    {
     "data": {
      "text/html": [
       "<div>\n",
       "<style scoped>\n",
       "    .dataframe tbody tr th:only-of-type {\n",
       "        vertical-align: middle;\n",
       "    }\n",
       "\n",
       "    .dataframe tbody tr th {\n",
       "        vertical-align: top;\n",
       "    }\n",
       "\n",
       "    .dataframe thead th {\n",
       "        text-align: right;\n",
       "    }\n",
       "</style>\n",
       "<table border=\"1\" class=\"dataframe\">\n",
       "  <thead>\n",
       "    <tr style=\"text-align: right;\">\n",
       "      <th></th>\n",
       "      <th>post_id</th>\n",
       "      <th>selftext</th>\n",
       "      <th>subreddit</th>\n",
       "      <th>is_osr</th>\n",
       "    </tr>\n",
       "  </thead>\n",
       "  <tbody>\n",
       "    <tr>\n",
       "      <th>0</th>\n",
       "      <td>1fee7z0</td>\n",
       "      <td>I wrote up an [exhaustive review and analysis]...</td>\n",
       "      <td>osr</td>\n",
       "      <td>1</td>\n",
       "    </tr>\n",
       "    <tr>\n",
       "      <th>4</th>\n",
       "      <td>1g9qvf9</td>\n",
       "      <td>I put together a *very thorough* [review of In...</td>\n",
       "      <td>osr</td>\n",
       "      <td>1</td>\n",
       "    </tr>\n",
       "    <tr>\n",
       "      <th>7</th>\n",
       "      <td>1h15axs</td>\n",
       "      <td>My group played through Winter's Daughter not ...</td>\n",
       "      <td>osr</td>\n",
       "      <td>1</td>\n",
       "    </tr>\n",
       "    <tr>\n",
       "      <th>8</th>\n",
       "      <td>tqdq72</td>\n",
       "      <td>Note: This is not a bash of 5e. This is not a ...</td>\n",
       "      <td>osr</td>\n",
       "      <td>1</td>\n",
       "    </tr>\n",
       "    <tr>\n",
       "      <th>9</th>\n",
       "      <td>1im6q5c</td>\n",
       "      <td>https://playfulvoid.game.blog/2025/02/10/batht...</td>\n",
       "      <td>osr</td>\n",
       "      <td>1</td>\n",
       "    </tr>\n",
       "  </tbody>\n",
       "</table>\n",
       "</div>"
      ],
      "text/plain": [
       "   post_id                                           selftext subreddit  \\\n",
       "0  1fee7z0  I wrote up an [exhaustive review and analysis]...       osr   \n",
       "4  1g9qvf9  I put together a *very thorough* [review of In...       osr   \n",
       "7  1h15axs  My group played through Winter's Daughter not ...       osr   \n",
       "8   tqdq72  Note: This is not a bash of 5e. This is not a ...       osr   \n",
       "9  1im6q5c  https://playfulvoid.game.blog/2025/02/10/batht...       osr   \n",
       "\n",
       "   is_osr  \n",
       "0       1  \n",
       "4       1  \n",
       "7       1  \n",
       "8       1  \n",
       "9       1  "
      ]
     },
     "execution_count": 47,
     "metadata": {},
     "output_type": "execute_result"
    }
   ],
   "source": [
    "df_osr.head()"
   ]
  },
  {
   "cell_type": "code",
   "execution_count": null,
   "id": "297475ef-7232-4f83-97ad-c9d025caed00",
   "metadata": {},
   "outputs": [],
   "source": []
  },
  {
   "cell_type": "code",
   "execution_count": null,
   "id": "c4a00cdb-b84b-4428-a74c-a508fb9f38f9",
   "metadata": {},
   "outputs": [],
   "source": []
  },
  {
   "cell_type": "code",
   "execution_count": null,
   "id": "998b6d18-99e3-438b-8585-45cbed4879d8",
   "metadata": {},
   "outputs": [],
   "source": []
  },
  {
   "cell_type": "markdown",
   "id": "fe4387a8-b3c5-4625-89d4-98e2dc5346de",
   "metadata": {},
   "source": []
  },
  {
   "cell_type": "code",
   "execution_count": null,
   "id": "106fd68c-a27c-4094-942c-af01e52a4052",
   "metadata": {},
   "outputs": [],
   "source": [
    "# add column for sentiment analysis\n"
   ]
  },
  {
   "cell_type": "code",
   "execution_count": null,
   "id": "3a405793-fe37-41fe-a177-97d139ac9a9a",
   "metadata": {},
   "outputs": [],
   "source": []
  },
  {
   "cell_type": "markdown",
   "id": "a6929ee8-49fe-4329-9a1f-59392f157fc1",
   "metadata": {},
   "source": [
    "#### Now that we've removed the rows where the document \"selftext\" is null, we'll make a column for number of words"
   ]
  }
 ],
 "metadata": {
  "kernelspec": {
   "display_name": "Python 3 (ipykernel)",
   "language": "python",
   "name": "python3"
  },
  "language_info": {
   "codemirror_mode": {
    "name": "ipython",
    "version": 3
   },
   "file_extension": ".py",
   "mimetype": "text/x-python",
   "name": "python",
   "nbconvert_exporter": "python",
   "pygments_lexer": "ipython3",
   "version": "3.12.7"
  }
 },
 "nbformat": 4,
 "nbformat_minor": 5
}
