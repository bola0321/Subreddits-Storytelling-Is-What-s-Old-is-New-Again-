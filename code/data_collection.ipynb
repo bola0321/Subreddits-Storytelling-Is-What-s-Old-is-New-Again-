{
 "cells": [
  {
   "cell_type": "markdown",
   "id": "203b5cf6-1f5d-43d7-88f1-8550bff00ecc",
   "metadata": {},
   "source": [
    "# Data Collection"
   ]
  },
  {
   "cell_type": "markdown",
   "id": "560c9fc9-d1b6-40ce-aa4d-6483c1877fca",
   "metadata": {},
   "source": [
    "### *Was enough data gathered to generate a significant result? (At least 1000 posts per subreddit)*\n",
    "### *Was data collected that was useful and relevant to the project?*\n",
    "### *Was data collection and storage optimized through custom functions, pipelines, and/or automation?*\n",
    "### *Was thought given to the server receiving the requests such as considering number of requests per second?*\n"
   ]
  },
  {
   "cell_type": "code",
   "execution_count": 2,
   "id": "ea7d76c1-8cc6-409b-bf9d-2be83a10c05a",
   "metadata": {},
   "outputs": [],
   "source": [
    "import praw\n",
    "import pandas as pd"
   ]
  },
  {
   "cell_type": "code",
   "execution_count": 3,
   "id": "4ddce390-f94d-4f87-85b3-e9e3fd4882ae",
   "metadata": {},
   "outputs": [],
   "source": [
    "\n",
    "reddit = praw.Reddit()"
   ]
  },
  {
   "cell_type": "code",
   "execution_count": 4,
   "id": "f9bc5815-0961-45bf-abc6-f25a175a2352",
   "metadata": {},
   "outputs": [],
   "source": [
    "posts = reddit.subreddit(\"osr\").search(\"rpg self:true\", sort = \"relevance\", limit= 300) \n",
    "\n",
    "\n",
    "#posts = reddit.subreddit(\"osr\").search(\"osr self:true\", sort = \"comment count\", limit= 200) \n",
    "\n",
    "#posts = reddit.subreddit(\"osr\").search(\"self:true\", sort = \"comment count\", time_filter=\"year\", limit= 500) \n",
    "\n",
    "#posts = reddit.subreddit(\"osr\").search(\"self:true\", sort = \"new\", limit= 500)\n",
    "\n",
    "#posts = reddit.subreddit(\"osr\").search(\"flair:review\" , limit=500)\n",
    "\n",
    "#for submission in subreddit.search(f'flair:\"{flair_text}\"', sort=\"new\", time_filter=\"all\"):\n",
    "#    print(submission.title, submission.url)\n",
    "\n",
    "#search(query: str, *, sort: str = 'relevance', syntax: str = 'lucene', time_filter: str = 'all', \n",
    "#**generator_kwargs: Any) → Iterator[praw.models.Submission]"
   ]
  },
  {
   "cell_type": "code",
   "execution_count": 5,
   "id": "ad88cad6-d1c2-4c24-bff6-c11bcb4c4ced",
   "metadata": {},
   "outputs": [],
   "source": [
    "#subreddit.search()\n",
    "#post_list = list(posts)"
   ]
  },
  {
   "cell_type": "code",
   "execution_count": 6,
   "id": "8abf1606-3624-4d9b-8167-cf1ed2108723",
   "metadata": {},
   "outputs": [],
   "source": [
    "#post_list[-1]"
   ]
  },
  {
   "cell_type": "code",
   "execution_count": 7,
   "id": "28857391-4d8d-497d-bc7f-3710959e47a5",
   "metadata": {},
   "outputs": [],
   "source": [
    "#reddit"
   ]
  },
  {
   "cell_type": "code",
   "execution_count": 8,
   "id": "7e7339fc-c190-4354-8686-c2013dc15885",
   "metadata": {
    "jupyter": {
     "source_hidden": true
    }
   },
   "outputs": [
    {
     "data": {
      "text/plain": [
       "praw.models.listing.generator.ListingGenerator"
      ]
     },
     "execution_count": 8,
     "metadata": {},
     "output_type": "execute_result"
    }
   ],
   "source": [
    "#list generator, once you access it, they go away. Like  a queue\n",
    "type(posts)"
   ]
  },
  {
   "cell_type": "code",
   "execution_count": 9,
   "id": "5d0fd284-d9db-44b7-8bf9-82bd528c9111",
   "metadata": {
    "scrolled": true
   },
   "outputs": [],
   "source": [
    "osr_dict = {}\n",
    "for post in posts:\n",
    "    osr_dict[post.id] = {\n",
    "             \"title\":post.title,\n",
    "            \"selftext\":post.selftext,\n",
    "            \"comments\":post.comments,\n",
    "            \"subreddit\":post.subreddit,\n",
    "            \"created_utc\":post.created_utc \n",
    "    }\n",
    "\n",
    "\n",
    "#make sure to save your return to a separate variable\n",
    "\n",
    "#each call is limited to 100 items being returned at a time\n",
    "#reddit is limited to 1000 regardless\n",
    "\n",
    "#need more? try a diffrerent sorting order\n",
    "# collect 1000 per day"
   ]
  },
  {
   "cell_type": "code",
   "execution_count": 10,
   "id": "65782a2f-de4c-4f1f-a40e-d4d9fb0bcd09",
   "metadata": {},
   "outputs": [
    {
     "data": {
      "text/plain": [
       "232"
      ]
     },
     "execution_count": 10,
     "metadata": {},
     "output_type": "execute_result"
    }
   ],
   "source": [
    "len(osr_dict)"
   ]
  },
  {
   "cell_type": "code",
   "execution_count": 12,
   "id": "64c435f8-9d6d-43f5-a74c-64842cd4adb9",
   "metadata": {},
   "outputs": [],
   "source": [
    "osr_first_100 = pd.DataFrame(osr_dict).T"
   ]
  },
  {
   "cell_type": "code",
   "execution_count": 13,
   "id": "a985b469-6dc6-44bc-861b-c183cd7f3269",
   "metadata": {
    "scrolled": true
   },
   "outputs": [
    {
     "data": {
      "text/html": [
       "<div>\n",
       "<style scoped>\n",
       "    .dataframe tbody tr th:only-of-type {\n",
       "        vertical-align: middle;\n",
       "    }\n",
       "\n",
       "    .dataframe tbody tr th {\n",
       "        vertical-align: top;\n",
       "    }\n",
       "\n",
       "    .dataframe thead th {\n",
       "        text-align: right;\n",
       "    }\n",
       "</style>\n",
       "<table border=\"1\" class=\"dataframe\">\n",
       "  <thead>\n",
       "    <tr style=\"text-align: right;\">\n",
       "      <th></th>\n",
       "      <th>title</th>\n",
       "      <th>selftext</th>\n",
       "      <th>comments</th>\n",
       "      <th>subreddit</th>\n",
       "      <th>created_utc</th>\n",
       "    </tr>\n",
       "  </thead>\n",
       "  <tbody>\n",
       "    <tr>\n",
       "      <th>1evkr02</th>\n",
       "      <td>Discovering OSR ruined other RPG playstyles fo...</td>\n",
       "      <td>I have a background of about 7 years DMing 5e,...</td>\n",
       "      <td>(lis7yid, lisdlag, lis7auj, lit1za9, lis6t90, ...</td>\n",
       "      <td>osr</td>\n",
       "      <td>1724017145.0</td>\n",
       "    </tr>\n",
       "    <tr>\n",
       "      <th>1ioip3w</th>\n",
       "      <td>Are RPG Blogs Dead?</td>\n",
       "      <td>In a world of YouTube, TikTok, Substack, Patre...</td>\n",
       "      <td>(mcjnm1j, mcjlvt1, mcjlw2y, mcjqbay, mcjs4h2, ...</td>\n",
       "      <td>osr</td>\n",
       "      <td>1739452229.0</td>\n",
       "    </tr>\n",
       "    <tr>\n",
       "      <th>1j5k9f6</th>\n",
       "      <td>[PSA] Massive print cost increase coming to Dr...</td>\n",
       "      <td>[DriveThruRPG](https://preview.drivethrurpg.co...</td>\n",
       "      <td>(mgijvti, mgjqtxn, mgho6ey, mghrm5f, mghmww4, ...</td>\n",
       "      <td>osr</td>\n",
       "      <td>1741342265.0</td>\n",
       "    </tr>\n",
       "    <tr>\n",
       "      <th>1g7fmdb</th>\n",
       "      <td>How intuitive is B/X D&amp;D for people who've nev...</td>\n",
       "      <td>I wanna introduce someone to TTRPG's. I was th...</td>\n",
       "      <td>(lsq5yak, lsq53be, lsq8b0b, lsqd43w, lsqbxdm, ...</td>\n",
       "      <td>osr</td>\n",
       "      <td>1729363332.0</td>\n",
       "    </tr>\n",
       "    <tr>\n",
       "      <th>10qos53</th>\n",
       "      <td>OSR debate in /rpg is actually quite interesting</td>\n",
       "      <td>https://www.reddit.com/r/rpg/comments/10pfx6g/...</td>\n",
       "      <td>(j6re8gx, j6r9u4h, j6rawom, j6rd7pl, j6ri612, ...</td>\n",
       "      <td>osr</td>\n",
       "      <td>1675241701.0</td>\n",
       "    </tr>\n",
       "  </tbody>\n",
       "</table>\n",
       "</div>"
      ],
      "text/plain": [
       "                                                     title  \\\n",
       "1evkr02  Discovering OSR ruined other RPG playstyles fo...   \n",
       "1ioip3w                                Are RPG Blogs Dead?   \n",
       "1j5k9f6  [PSA] Massive print cost increase coming to Dr...   \n",
       "1g7fmdb  How intuitive is B/X D&D for people who've nev...   \n",
       "10qos53   OSR debate in /rpg is actually quite interesting   \n",
       "\n",
       "                                                  selftext  \\\n",
       "1evkr02  I have a background of about 7 years DMing 5e,...   \n",
       "1ioip3w  In a world of YouTube, TikTok, Substack, Patre...   \n",
       "1j5k9f6  [DriveThruRPG](https://preview.drivethrurpg.co...   \n",
       "1g7fmdb  I wanna introduce someone to TTRPG's. I was th...   \n",
       "10qos53  https://www.reddit.com/r/rpg/comments/10pfx6g/...   \n",
       "\n",
       "                                                  comments subreddit  \\\n",
       "1evkr02  (lis7yid, lisdlag, lis7auj, lit1za9, lis6t90, ...       osr   \n",
       "1ioip3w  (mcjnm1j, mcjlvt1, mcjlw2y, mcjqbay, mcjs4h2, ...       osr   \n",
       "1j5k9f6  (mgijvti, mgjqtxn, mgho6ey, mghrm5f, mghmww4, ...       osr   \n",
       "1g7fmdb  (lsq5yak, lsq53be, lsq8b0b, lsqd43w, lsqbxdm, ...       osr   \n",
       "10qos53  (j6re8gx, j6r9u4h, j6rawom, j6rd7pl, j6ri612, ...       osr   \n",
       "\n",
       "          created_utc  \n",
       "1evkr02  1724017145.0  \n",
       "1ioip3w  1739452229.0  \n",
       "1j5k9f6  1741342265.0  \n",
       "1g7fmdb  1729363332.0  \n",
       "10qos53  1675241701.0  "
      ]
     },
     "execution_count": 13,
     "metadata": {},
     "output_type": "execute_result"
    }
   ],
   "source": [
    "osr_first_100.head()"
   ]
  },
  {
   "cell_type": "code",
   "execution_count": 15,
   "id": "13008dd7-8611-40e8-992a-17721cfc8094",
   "metadata": {},
   "outputs": [],
   "source": [
    "#storing data frames as I go along\n",
    "#osr_first_100.to_csv(\"./data/osr_0-243.csv\")\n",
    "#osr_first_100.to_csv(\"./data/osr_244-489.csv\")\n",
    "#osr_first_100.to_csv(\"./data/osr_490-1190.csv\")\n",
    "#osr_first_100.to_csv(\"./data/osr_1190-1433.csv\")\n",
    "#osr_first_100.to_csv(\"./data/osr_1433-1683.csv\")\n",
    "#osr_first_100.to_csv(\"./data/osr_1683-1931.csv\")\n",
    "osr_first_100.to_csv(\"../data/osr_1931-2163.csv\")\n"
   ]
  },
  {
   "cell_type": "code",
   "execution_count": 19,
   "id": "115b26c4-ff2e-4cda-b24a-ff6ddc7951c7",
   "metadata": {},
   "outputs": [
    {
     "data": {
      "text/plain": [
       "praw.models.reddit.submission.Submission"
      ]
     },
     "execution_count": 19,
     "metadata": {},
     "output_type": "execute_result"
    }
   ],
   "source": [
    "#type(post)\n",
    "\n",
    "#type Submission"
   ]
  },
  {
   "cell_type": "code",
   "execution_count": null,
   "id": "b3dd6e14-95ff-4150-b952-17303a590258",
   "metadata": {},
   "outputs": [],
   "source": [
    "#post.comments\n",
    "#type CommentForest and can be iterated through (check documenation)"
   ]
  },
  {
   "cell_type": "code",
   "execution_count": 16,
   "id": "74c8b3a9-3a3a-468f-ae54-fd6aaf3bd7c4",
   "metadata": {},
   "outputs": [],
   "source": [
    "posts = reddit.subreddit(\"rpg\").search(\"rpg self:true\", sort = \"relevance\", limit= 300) \n",
    "\n",
    "#posts = reddit.subreddit(\"rpg\").search(\"rpg self:true\", sort = \"comment count\", limit= 500) \n",
    "#posts = reddit.subreddit(\"rpg\").top(limit=1000)\n",
    "#posts = reddit.subreddit(\"rpg\").new(limit=150)\n"
   ]
  },
  {
   "cell_type": "code",
   "execution_count": 17,
   "id": "404365f8-0a1d-49c7-b7e7-678ce391e9ca",
   "metadata": {},
   "outputs": [],
   "source": [
    "osr_dict = {}\n",
    "for post in posts:\n",
    "    osr_dict[post.id] = {\n",
    "             \"title\":post.title,\n",
    "            \"selftext\":post.selftext,\n",
    "            \"comments\":post.comments,\n",
    "            \"subreddit\":post.subreddit,\n",
    "            \"created_utc\":post.created_utc \n",
    "    }"
   ]
  },
  {
   "cell_type": "code",
   "execution_count": 18,
   "id": "5d0b0800-2ed8-4231-b8f0-990231299556",
   "metadata": {},
   "outputs": [
    {
     "data": {
      "text/plain": [
       "234"
      ]
     },
     "execution_count": 18,
     "metadata": {},
     "output_type": "execute_result"
    }
   ],
   "source": [
    "len(osr_dict)"
   ]
  },
  {
   "cell_type": "code",
   "execution_count": 19,
   "id": "e9fbf0ac-95e4-42a8-83c1-714bbbe7b82e",
   "metadata": {},
   "outputs": [],
   "source": [
    "osr_first_100 = pd.DataFrame(osr_dict).T"
   ]
  },
  {
   "cell_type": "code",
   "execution_count": 20,
   "id": "2d3e411b-099b-4e11-bb1a-d9189d0fea3e",
   "metadata": {},
   "outputs": [
    {
     "data": {
      "text/html": [
       "<div>\n",
       "<style scoped>\n",
       "    .dataframe tbody tr th:only-of-type {\n",
       "        vertical-align: middle;\n",
       "    }\n",
       "\n",
       "    .dataframe tbody tr th {\n",
       "        vertical-align: top;\n",
       "    }\n",
       "\n",
       "    .dataframe thead th {\n",
       "        text-align: right;\n",
       "    }\n",
       "</style>\n",
       "<table border=\"1\" class=\"dataframe\">\n",
       "  <thead>\n",
       "    <tr style=\"text-align: right;\">\n",
       "      <th></th>\n",
       "      <th>title</th>\n",
       "      <th>selftext</th>\n",
       "      <th>comments</th>\n",
       "      <th>subreddit</th>\n",
       "      <th>created_utc</th>\n",
       "    </tr>\n",
       "  </thead>\n",
       "  <tbody>\n",
       "    <tr>\n",
       "      <th>1idq440</th>\n",
       "      <td>PLEASE NOTE: The Punch a Nazi rpg post from ea...</td>\n",
       "      <td>The post was apparently reported to Reddit Adm...</td>\n",
       "      <td>(ma10y20, ma11j50, ma12edz, ma14ply, ma13x1i, ...</td>\n",
       "      <td>rpg</td>\n",
       "      <td>1738252616.0</td>\n",
       "    </tr>\n",
       "    <tr>\n",
       "      <th>1i8dnf4</th>\n",
       "      <td>Twitter/X links are now banned on /r/rpg</td>\n",
       "      <td>We don't see Twitter/X links on here very ofte...</td>\n",
       "      <td>(m8tggq8, m8slhdk, m8siqtq, m8si21k, m8sokbl, ...</td>\n",
       "      <td>rpg</td>\n",
       "      <td>1737665418.0</td>\n",
       "    </tr>\n",
       "    <tr>\n",
       "      <th>1gedgbt</th>\n",
       "      <td>DrivethruRPG is now allowing you to filter out...</td>\n",
       "      <td>I just saw that DrivethruRPG is now allowing p...</td>\n",
       "      <td>(lu8s7e7, lu8usz9, luadkjn, lu908xu, lu8s5wg, ...</td>\n",
       "      <td>rpg</td>\n",
       "      <td>1730150216.0</td>\n",
       "    </tr>\n",
       "    <tr>\n",
       "      <th>1j3mx53</th>\n",
       "      <td>Is there an anti-capitalist RPG where the BBEG...</td>\n",
       "      <td>Not that this is an issue these days, but...\\n...</td>\n",
       "      <td>(mg1gjjd, mg1glza, mg1gug0, mg1hq2k, mg1gfde, ...</td>\n",
       "      <td>rpg</td>\n",
       "      <td>1741125750.0</td>\n",
       "    </tr>\n",
       "    <tr>\n",
       "      <th>1gkdm0v</th>\n",
       "      <td>I think too many RPG reviews are quite useless</td>\n",
       "      <td>I recently watched a 30 minute review video ab...</td>\n",
       "      <td>(lvkcgcm, lvkdcx0, lvl3zgf, lvkpzav, lvkhic4, ...</td>\n",
       "      <td>rpg</td>\n",
       "      <td>1730831383.0</td>\n",
       "    </tr>\n",
       "  </tbody>\n",
       "</table>\n",
       "</div>"
      ],
      "text/plain": [
       "                                                     title  \\\n",
       "1idq440  PLEASE NOTE: The Punch a Nazi rpg post from ea...   \n",
       "1i8dnf4           Twitter/X links are now banned on /r/rpg   \n",
       "1gedgbt  DrivethruRPG is now allowing you to filter out...   \n",
       "1j3mx53  Is there an anti-capitalist RPG where the BBEG...   \n",
       "1gkdm0v     I think too many RPG reviews are quite useless   \n",
       "\n",
       "                                                  selftext  \\\n",
       "1idq440  The post was apparently reported to Reddit Adm...   \n",
       "1i8dnf4  We don't see Twitter/X links on here very ofte...   \n",
       "1gedgbt  I just saw that DrivethruRPG is now allowing p...   \n",
       "1j3mx53  Not that this is an issue these days, but...\\n...   \n",
       "1gkdm0v  I recently watched a 30 minute review video ab...   \n",
       "\n",
       "                                                  comments subreddit  \\\n",
       "1idq440  (ma10y20, ma11j50, ma12edz, ma14ply, ma13x1i, ...       rpg   \n",
       "1i8dnf4  (m8tggq8, m8slhdk, m8siqtq, m8si21k, m8sokbl, ...       rpg   \n",
       "1gedgbt  (lu8s7e7, lu8usz9, luadkjn, lu908xu, lu8s5wg, ...       rpg   \n",
       "1j3mx53  (mg1gjjd, mg1glza, mg1gug0, mg1hq2k, mg1gfde, ...       rpg   \n",
       "1gkdm0v  (lvkcgcm, lvkdcx0, lvl3zgf, lvkpzav, lvkhic4, ...       rpg   \n",
       "\n",
       "          created_utc  \n",
       "1idq440  1738252616.0  \n",
       "1i8dnf4  1737665418.0  \n",
       "1gedgbt  1730150216.0  \n",
       "1j3mx53  1741125750.0  \n",
       "1gkdm0v  1730831383.0  "
      ]
     },
     "execution_count": 20,
     "metadata": {},
     "output_type": "execute_result"
    }
   ],
   "source": [
    "osr_first_100.head()"
   ]
  },
  {
   "cell_type": "code",
   "execution_count": 22,
   "id": "01ccf428-6ad9-4014-8608-5d7be03d839d",
   "metadata": {},
   "outputs": [],
   "source": [
    "#osr_first_100.to_csv(\"./data/nsr_0-999.csv\")\n",
    "#osr_first_100.to_csv(\"./data/nsr_1000-1150.csv\")\n",
    "#osr_first_100.to_csv(\"./data/nsr_1150-1394.csv\")\n",
    "#osr_first_100.to_csv(\"./data/nsr_1394-1628.csv\")\n",
    "osr_first_100.to_csv(\"../data/nsr_1628-1862.csv\")"
   ]
  },
  {
   "cell_type": "code",
   "execution_count": null,
   "id": "1b10d562-ce38-4cf1-9152-ded4b352129d",
   "metadata": {},
   "outputs": [],
   "source": []
  }
 ],
 "metadata": {
  "kernelspec": {
   "display_name": "Python 3 (ipykernel)",
   "language": "python",
   "name": "python3"
  },
  "language_info": {
   "codemirror_mode": {
    "name": "ipython",
    "version": 3
   },
   "file_extension": ".py",
   "mimetype": "text/x-python",
   "name": "python",
   "nbconvert_exporter": "python",
   "pygments_lexer": "ipython3",
   "version": "3.13.2"
  }
 },
 "nbformat": 4,
 "nbformat_minor": 5
}
