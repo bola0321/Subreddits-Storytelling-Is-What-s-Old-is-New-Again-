{
 "cells": [
  {
   "cell_type": "markdown",
   "id": "203b5cf6-1f5d-43d7-88f1-8550bff00ecc",
   "metadata": {},
   "source": [
    "# Background Information and Data Collection"
   ]
  },
  {
   "cell_type": "markdown",
   "id": "58271fe8-1e79-467c-ad02-d2ad768a76c1",
   "metadata": {},
   "source": [
    "## Background Information"
   ]
  },
  {
   "cell_type": "markdown",
   "id": "560c9fc9-d1b6-40ce-aa4d-6483c1877fca",
   "metadata": {},
   "source": [
    "### Origins and Dragons\n",
    "\n",
    "The genesis of RPGs can be traced back to the late 1960s and early 1970s, rooted in tabletop wargaming traditions. A pivotal moment occurred in 1969 with \"Braunstein,\" a game devised by David Wesely in St. Paul, Minnesota. Unlike traditional wargames focused solely on military tactics, Braunstein introduced players to roles such as university chancellors and student revolutionaries, emphasizing individual character actions and open-ended narratives. This innovative approach laid the groundwork for modern role-playing games. \n",
    "\n",
    "\n",
    "Building upon this foundation, Dave Arneson and Gary Gygax collaborated to create \"Dungeons & Dragons\" (D&D), first published in 1974. D&D combined fantasy storytelling with strategic gameplay, allowing players to assume unique character roles within a structured rule system. Its release marked the commercial birth of RPGs, fostering a dedicated following and inspiring numerous other games\n",
    "\n",
    "\n",
    "\n",
    "### The Old School Renaissance (OSR) Movement\n",
    "\n",
    "In the early 2000s, the RPG community witnessed the emergence of the Old School Renaissance (OSR). This movement sought to revive the gameplay styles and design philosophies of early RPGs, particularly the original editions of D&D. OSR enthusiasts emphasized simplicity, creativity, and a do-it-yourself (DIY) ethos, often favoring \"rulings over rules\" to grant game masters greater flexibility and players a heightened sense of adventure. \n",
    "\n",
    "\n",
    "The OSR led to the development of \"retro-clones,\" games that emulate the mechanics and feel of early RPGs. Notable examples include \"Labyrinth Lord\" (2007),\"Swords & Wizardry\" (2008), and \"Old School Essentials\" (2019). These games allowed new generations to experience classic RPG gameplay and encouraged the creation of original content within established frameworks.\n",
    "\n",
    "\n",
    "### Growth of the RPG Community and Industry\n",
    "\n",
    "From a financial perspective, the RPG industry has experienced significant growth since its inception. While exact monetary figures are challenging to pinpoint due to the diverse and fragmented nature of the market, several indicators highlight this expansion. According to \"Wizards of the Coast (WotC)\" which has been a part of Hasbro since 1999, \"has experienced a decade of growth that saw their annual profits grow 400%. The company doubled in size in the five years between 2012 to 2017, and Hasbro’s CEO Brian Goldner said today that Wizards was on track to double once again in the following five year period from 2018 to 2023.\"\n",
    "\n",
    "The 2000s introduced the Open Game License (OGL), allowing third-party publishers to create compatible content for D&D. This initiative spurred a proliferation of supplementary materials and alternative RPG systems, diversifying the market and contributing to its financial growth. \n",
    "\n",
    "\n",
    "In recent years, the advent of crowdfunding platforms like Kickstarter has further fueled the industry's expansion. Projects such as \"Shadowdark: The Western Reaches\" have raised substantial funds, with this particular campaign garnering over $1.5 million. These successes underscore the community's enthusiasm and the financial viability of innovative RPG endeavors. \n",
    "\n",
    "Additionally, the rise of actual-play web/podcast/streaming series like \"Critical Role\", \"The Adventure Zone\", and \"Dimension 20\" has introduced RPGs to broader audiences, leading to increased sales of core rulebooks and related merchandise. By 2021, D&D had attracted approximately 85 million global fans, engaging through both tabletop and digital formats. \n",
    "\n",
    "\n",
    "[Tim Harford’s epic, 40-year Dungeons & Dragons odyssey, Financial Times](https://www.ft.com/content/40dbd2a9-d651-497b-8a02-30dbf520f154)\n",
    "\n",
    "[History of Role-Playing Games](https://ogres.fandom.com/wiki/History_of_Role-playing_Games)\n",
    "\n",
    "[What’s an OSR RPG? A Guide to Old School Renaissance](https://blog.worldanvil.com/dm-tips-advice/osr-rpg-guide-to-old-school-renaissance/)\n",
    "\n",
    " [Wizards of the Coast is Now a Division of Hasbro, Will Lead Digital Licensing Initiatives](https://www.hipstersofthecoast.com/2021/02/wizards-of-the-coast-is-now-a-division-of-hasbro-will-lead-digital-licensing-initiatives/)\n",
    "\n",
    "[The D&D Open Game License controversy, explained](https://www.washingtonpost.com/video-games/2023/01/19/dungeons-and-dragons-open-game-license-wizards-of-the-coast-explained/)\n",
    "\n",
    "[D&D co-creator Gary Gygax is having a big week in crowdfunding](https://www.polygon.com/dnd-dungeons-dragons/541862/gary-gygax-castle-zygag-shadowdark-crowdfunding-campaigns)\n",
    "\n",
    "[Why Dungeons & Dragons is still winning at 50](https://www.axios.com/local/seattle/2025/01/29/dnd-wizards-2025-roadmap-dungeons-dragons-50-years)"
   ]
  },
  {
   "cell_type": "markdown",
   "id": "f78d2e2d-a4f8-4e4a-899e-58c773e2c343",
   "metadata": {},
   "source": [
    "## Data Collection"
   ]
  },
  {
   "cell_type": "markdown",
   "id": "b8ef67a8-feb7-4f6c-946f-ff7d3c2f8686",
   "metadata": {},
   "source": [
    "We're going to use [PRAW](https://praw.readthedocs.io/en/stable/index.html) to scrape Reddit for posts from the OSR and RPG subreddits. We have to be careful about making too many requests to Reddit at a given time, so we will not be making requests in a loop, but rather line by line. This also allows us to see what we are getting in our returns so we can iterate our search terms intelligently. \n",
    "* First, we'll make some helper functions to make collecting our data easier. We'll make a get request to the Reddit API via PRAW with arguments pertaining to our subreddit and search terms we will get returns from.\n",
    "* Next we'll store the returned response in a dictionary to ensure that duplicate posts were not returned, and to save the post's title, selftext(or the body of the post), comments, subreddit name, and the UTC time.\n",
    "* Then we convert the dictionary to a dataframe and save it as a csv by the number range of data pulled in.\n",
    "  "
   ]
  },
  {
   "cell_type": "code",
   "execution_count": 1,
   "id": "ea7d76c1-8cc6-409b-bf9d-2be83a10c05a",
   "metadata": {},
   "outputs": [],
   "source": [
    "import praw\n",
    "import pandas as pd"
   ]
  },
  {
   "cell_type": "code",
   "execution_count": 8,
   "id": "5d0fd284-d9db-44b7-8bf9-82bd528c9111",
   "metadata": {
    "scrolled": true
   },
   "outputs": [],
   "source": [
    "def praw_search(subreddit, search_str, **extra_kwargs):\n",
    "    reddit = praw.Reddit()\n",
    "    return reddit.subreddit(subreddit).search(search_str, **extra_kwargs)\n",
    "\n",
    "def create_praw_dict(posts):\n",
    "    subred_dict = {}\n",
    "    for post in posts:\n",
    "        subred_dict[post.id] = {\n",
    "                 \"title\":post.title,\n",
    "                \"selftext\":post.selftext,\n",
    "                \"comments\":post.comments,\n",
    "                \"subreddit\":post.subreddit,\n",
    "                \"created_utc\":post.created_utc \n",
    "        }\n",
    "    return subred_dict\n",
    "\n",
    "def save_csv(start_index, posts_dict, subreddit):\n",
    "    #make dataframe out of post dictionary\n",
    "    df = pd.DataFrame(posts_dict).T\n",
    "\n",
    "    #creating filename to save df\n",
    "    num_posts = len(posts_dict)\n",
    "    stop_index = start_index + num_posts\n",
    "    filename = f\"../data/{subreddit}_{start_index}-{stop_index}.csv\"\n",
    "    #save df to filename\n",
    "    df.to_csv(filename)"
   ]
  },
  {
   "cell_type": "markdown",
   "id": "80049bad-4c2d-4e44-beeb-dffe4cbf5fd8",
   "metadata": {},
   "source": [
    "### OSR Data Collection"
   ]
  },
  {
   "cell_type": "code",
   "execution_count": 6,
   "id": "64c435f8-9d6d-43f5-a74c-64842cd4adb9",
   "metadata": {},
   "outputs": [],
   "source": [
    "start_index = 0\n",
    "subreddit = \"osr\""
   ]
  },
  {
   "cell_type": "code",
   "execution_count": 9,
   "id": "65782a2f-de4c-4f1f-a40e-d4d9fb0bcd09",
   "metadata": {},
   "outputs": [],
   "source": [
    "# First we look at explicit OSR reviews\n",
    "\n",
    "posts = praw_search('osr', \"flair:review\", limit=500)\n",
    "osr_dict = create_praw_dict(posts)\n",
    "save_csv(start_index, osr_dict, subreddit)\n",
    "start_index += len(osr_dict)"
   ]
  },
  {
   "cell_type": "code",
   "execution_count": null,
   "id": "60e4a59e-1894-497e-b788-45043e8a0488",
   "metadata": {},
   "outputs": [],
   "source": [
    "# newest posts that explicitly contain text\n",
    "posts = praw_search(\"osr\", \"self:true\",sort = \"new\", limit= 500)\n",
    "osr_dict = create_praw_dict(posts)\n",
    "save_csv(start_index, osr_dict, subreddit)\n",
    "start_index += len(osr_dict)"
   ]
  },
  {
   "cell_type": "code",
   "execution_count": null,
   "id": "9f39f31f-d228-40af-857b-1e424d74b9d4",
   "metadata": {},
   "outputs": [],
   "source": [
    "#posts that explicitly contain text sorted by highest comment count \n",
    "#(intending to get posts that are less recent with \"all time\")\n",
    "\n",
    "posts = praw_search(\"osr\", \"self:true\",sort = \"new\", limit= 500)\n",
    "osr_dict = create_praw_dict(posts)\n",
    "save_csv(start_index, osr_dict, subreddit)\n",
    "start_index += len(osr_dict)"
   ]
  },
  {
   "cell_type": "code",
   "execution_count": null,
   "id": "2c81ecd3-2c2a-4988-b6fc-95e8358f5728",
   "metadata": {},
   "outputs": [],
   "source": [
    "#posts that explicitly contain text sorted by highest comment count, but recent\n",
    "\n",
    "posts = praw_search(\"osr\", \"self:true\",sort = \"new\", limit= 200)\n",
    "osr_dict = create_praw_dict(posts)\n",
    "save_csv(start_index, osr_dict, subreddit)\n",
    "start_index += len(osr_dict)"
   ]
  },
  {
   "cell_type": "code",
   "execution_count": null,
   "id": "a1a50af0-259b-477b-a5bf-53cca2ad1596",
   "metadata": {},
   "outputs": [],
   "source": [
    "#posts that explicitly contain text that mention \"rpg\" and sorting by relevance\n",
    "\n",
    "posts = praw_search(\"osr\", \"rpg self:true\",sort = \"relevance\", limit= 300)\n",
    "osr_dict = create_praw_dict(posts)\n",
    "save_csv(start_index, osr_dict, subreddit)\n",
    "start_index += len(osr_dict)"
   ]
  },
  {
   "cell_type": "markdown",
   "id": "8bed1682-294f-443c-812d-15716354dc61",
   "metadata": {},
   "source": [
    "### RPG Data Collection"
   ]
  },
  {
   "cell_type": "code",
   "execution_count": null,
   "id": "d7e95d10-09a5-4708-88d5-7d943b8a8c15",
   "metadata": {},
   "outputs": [],
   "source": [
    "start_index = 0\n",
    "subreddit = \"rpg1\""
   ]
  },
  {
   "cell_type": "code",
   "execution_count": null,
   "id": "692625c0-d272-41cd-99a1-847c92c9dd3f",
   "metadata": {},
   "outputs": [],
   "source": [
    "#posts that explicitly contain text that mention \"rpg\" and sorting by relevance\n",
    "#posts = reddit.subreddit(\"rpg\").new(limit=150)\n",
    "\n",
    "posts = praw.Reddit().subreddit(subreddit).new(limit=150)\n",
    "osr_dict = create_praw_dict(posts)\n",
    "save_csv(start_index, osr_dict, subreddit)\n",
    "start_index += len(osr_dict)"
   ]
  },
  {
   "cell_type": "code",
   "execution_count": null,
   "id": "bba3dc95-81e0-4078-89b0-c29f2bd54305",
   "metadata": {},
   "outputs": [],
   "source": [
    "posts = praw.Reddit().subreddit(subreddit).top(limit=150)\n",
    "osr_dict = create_praw_dict(posts)\n",
    "save_csv(start_index, osr_dict, subreddit)\n",
    "start_index += len(osr_dict)"
   ]
  },
  {
   "cell_type": "code",
   "execution_count": null,
   "id": "68b3c2fb-a541-4d91-91b1-913585c0978e",
   "metadata": {},
   "outputs": [],
   "source": [
    "# explicitly text posts that mention rpg by highest comment count\n",
    "\n",
    "posts = praw_search(\"rpg\", \"rpg self:true\",sort = \"comment count\", limit= 500)\n",
    "osr_dict = create_praw_dict(posts)\n",
    "save_csv(start_index, osr_dict, subreddit)\n",
    "start_index += len(osr_dict)"
   ]
  },
  {
   "cell_type": "code",
   "execution_count": null,
   "id": "eaf4d4f1-47dc-4d94-94ca-fcaeeb3949e5",
   "metadata": {},
   "outputs": [],
   "source": [
    "# explicitly text posts that mention rpg by relevance\n",
    "\n",
    "posts = praw_search(\"rpg\", \"rpg self:true\",sort = \"relevance\", limit= 300)\n",
    "osr_dict = create_praw_dict(posts)\n",
    "save_csv(start_index, osr_dict, subreddit)\n",
    "start_index += len(osr_dict)"
   ]
  },
  {
   "cell_type": "markdown",
   "id": "60ffeafc-fb6e-4833-8139-80f3faceee5a",
   "metadata": {},
   "source": [
    "### Now that we have our data save in CSVs in the data folder, we'll move over to [cleaning our data and performing EDA](./cleaning_and_eda.ipynb)"
   ]
  },
  {
   "cell_type": "code",
   "execution_count": null,
   "id": "6979a0b4-d6b7-482d-b7ca-2da1c3e6a676",
   "metadata": {},
   "outputs": [],
   "source": []
  }
 ],
 "metadata": {
  "kernelspec": {
   "display_name": "Python 3 (ipykernel)",
   "language": "python",
   "name": "python3"
  },
  "language_info": {
   "codemirror_mode": {
    "name": "ipython",
    "version": 3
   },
   "file_extension": ".py",
   "mimetype": "text/x-python",
   "name": "python",
   "nbconvert_exporter": "python",
   "pygments_lexer": "ipython3",
   "version": "3.13.2"
  }
 },
 "nbformat": 4,
 "nbformat_minor": 5
}
