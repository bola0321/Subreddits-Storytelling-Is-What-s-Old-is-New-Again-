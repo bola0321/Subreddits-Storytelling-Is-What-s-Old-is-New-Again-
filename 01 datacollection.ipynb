{
 "cells": [
  {
   "cell_type": "code",
   "execution_count": 46,
   "id": "ea7d76c1-8cc6-409b-bf9d-2be83a10c05a",
   "metadata": {},
   "outputs": [],
   "source": [
    "import praw\n",
    "import pandas as pd"
   ]
  },
  {
   "cell_type": "code",
   "execution_count": 47,
   "id": "4ddce390-f94d-4f87-85b3-e9e3fd4882ae",
   "metadata": {},
   "outputs": [],
   "source": [
    "reddit = praw.Reddit()"
   ]
  },
  {
   "cell_type": "code",
   "execution_count": null,
   "id": "8bc075c6-3533-4613-8039-64dbc4c87627",
   "metadata": {},
   "outputs": [],
   "source": []
  },
  {
   "cell_type": "code",
   "execution_count": 48,
   "id": "f9bc5815-0961-45bf-abc6-f25a175a2352",
   "metadata": {},
   "outputs": [],
   "source": [
    "posts = reddit.subreddit(\"osr\").top(limit=600)\n",
    "\n",
    "#posts = reddit.subreddit(\"osr\").search(\"review\" , limit=600)\n",
    "\n",
    "#for submission in subreddit.search(f'flair:\"{flair_text}\"', sort=\"new\", time_filter=\"all\"):\n",
    "#    print(submission.title, submission.url)\n",
    "\n",
    "#search(query: str, *, sort: str = 'relevance', syntax: str = 'lucene', time_filter: str = 'all', \n",
    "#**generator_kwargs: Any) → Iterator[praw.models.Submission]"
   ]
  },
  {
   "cell_type": "code",
   "execution_count": 49,
   "id": "ad88cad6-d1c2-4c24-bff6-c11bcb4c4ced",
   "metadata": {},
   "outputs": [],
   "source": [
    "#subreddit.search()\n",
    "#post_list = list(posts)"
   ]
  },
  {
   "cell_type": "code",
   "execution_count": 50,
   "id": "8abf1606-3624-4d9b-8167-cf1ed2108723",
   "metadata": {},
   "outputs": [],
   "source": [
    "#post_list[-1]"
   ]
  },
  {
   "cell_type": "code",
   "execution_count": 51,
   "id": "28857391-4d8d-497d-bc7f-3710959e47a5",
   "metadata": {},
   "outputs": [],
   "source": [
    "#reddit"
   ]
  },
  {
   "cell_type": "code",
   "execution_count": 52,
   "id": "7e7339fc-c190-4354-8686-c2013dc15885",
   "metadata": {
    "jupyter": {
     "source_hidden": true
    }
   },
   "outputs": [
    {
     "data": {
      "text/plain": [
       "praw.models.listing.generator.ListingGenerator"
      ]
     },
     "execution_count": 52,
     "metadata": {},
     "output_type": "execute_result"
    }
   ],
   "source": [
    "#list generator, once you access it, they go away. Like  a queue\n",
    "type(posts)"
   ]
  },
  {
   "cell_type": "code",
   "execution_count": 53,
   "id": "5d0fd284-d9db-44b7-8bf9-82bd528c9111",
   "metadata": {
    "scrolled": true
   },
   "outputs": [],
   "source": [
    "osr_dict = {}\n",
    "for post in posts:\n",
    "    osr_dict[post.id] = {\n",
    "             \"title\":post.title,\n",
    "            \"selftext\":post.selftext,\n",
    "            \"comments\":post.comments,\n",
    "            \"subreddit\":post.subreddit,\n",
    "            \"created_utc\":post.created_utc \n",
    "    }\n",
    "\n",
    "\n",
    "#make sure to save your return to a separate variable\n",
    "\n",
    "#each call is limited to 100 items being returned at a time\n",
    "#reddit is limited to 1000 regardless\n",
    "\n",
    "#need more? try a diffrerent sorting order\n",
    "# collect 1000 per day"
   ]
  },
  {
   "cell_type": "code",
   "execution_count": 54,
   "id": "65782a2f-de4c-4f1f-a40e-d4d9fb0bcd09",
   "metadata": {},
   "outputs": [
    {
     "data": {
      "text/plain": [
       "600"
      ]
     },
     "execution_count": 54,
     "metadata": {},
     "output_type": "execute_result"
    }
   ],
   "source": [
    "len(osr_dict)"
   ]
  },
  {
   "cell_type": "code",
   "execution_count": 55,
   "id": "64c435f8-9d6d-43f5-a74c-64842cd4adb9",
   "metadata": {},
   "outputs": [],
   "source": [
    "osr_first_100 = pd.DataFrame(osr_dict).T"
   ]
  },
  {
   "cell_type": "code",
   "execution_count": 56,
   "id": "a985b469-6dc6-44bc-861b-c183cd7f3269",
   "metadata": {},
   "outputs": [
    {
     "data": {
      "text/html": [
       "<div>\n",
       "<style scoped>\n",
       "    .dataframe tbody tr th:only-of-type {\n",
       "        vertical-align: middle;\n",
       "    }\n",
       "\n",
       "    .dataframe tbody tr th {\n",
       "        vertical-align: top;\n",
       "    }\n",
       "\n",
       "    .dataframe thead th {\n",
       "        text-align: right;\n",
       "    }\n",
       "</style>\n",
       "<table border=\"1\" class=\"dataframe\">\n",
       "  <thead>\n",
       "    <tr style=\"text-align: right;\">\n",
       "      <th></th>\n",
       "      <th>title</th>\n",
       "      <th>selftext</th>\n",
       "      <th>comments</th>\n",
       "      <th>subreddit</th>\n",
       "      <th>created_utc</th>\n",
       "    </tr>\n",
       "  </thead>\n",
       "  <tbody>\n",
       "    <tr>\n",
       "      <th>1hzjg0b</th>\n",
       "      <td>Some art my dad recently drew that I thought w...</td>\n",
       "      <td></td>\n",
       "      <td>(m6q3ewj, m6q2s12, m6rdiqy, m6qm0zs, m6sj3f6, ...</td>\n",
       "      <td>osr</td>\n",
       "      <td>1736675482.0</td>\n",
       "    </tr>\n",
       "    <tr>\n",
       "      <th>1i7fiuq</th>\n",
       "      <td>As of now, no Twitter (\"X\") links are allowed ...</td>\n",
       "      <td>Hi folks,\\n\\nNot that there ever were a lot, b...</td>\n",
       "      <td>()</td>\n",
       "      <td>osr</td>\n",
       "      <td>1737564380.0</td>\n",
       "    </tr>\n",
       "    <tr>\n",
       "      <th>1gq0x58</th>\n",
       "      <td>Found my dad's old dnd stuff</td>\n",
       "      <td>Post was deleted in the main dnd sub, so I'm p...</td>\n",
       "      <td>(lwueygo, lwuii5j, lwuf6hw, lwufgcb, lwuji4x, ...</td>\n",
       "      <td>osr</td>\n",
       "      <td>1731460084.0</td>\n",
       "    </tr>\n",
       "    <tr>\n",
       "      <th>1h47eod</th>\n",
       "      <td>Hex map made with rubber stamps</td>\n",
       "      <td></td>\n",
       "      <td>(lzw4dwf, lzw4ueo, lzw4yx8, lzw6qps, lzw9ago, ...</td>\n",
       "      <td>osr</td>\n",
       "      <td>1733071547.0</td>\n",
       "    </tr>\n",
       "    <tr>\n",
       "      <th>1j0c24s</th>\n",
       "      <td>Very sad news today.\\n\\nWe lost Ernie.\\n\\nSupe...</td>\n",
       "      <td></td>\n",
       "      <td>(mfbb8gl, mfa5mxj, mfa3dct, mfa15b4, mfa060s, ...</td>\n",
       "      <td>osr</td>\n",
       "      <td>1740760932.0</td>\n",
       "    </tr>\n",
       "  </tbody>\n",
       "</table>\n",
       "</div>"
      ],
      "text/plain": [
       "                                                     title  \\\n",
       "1hzjg0b  Some art my dad recently drew that I thought w...   \n",
       "1i7fiuq  As of now, no Twitter (\"X\") links are allowed ...   \n",
       "1gq0x58                       Found my dad's old dnd stuff   \n",
       "1h47eod                    Hex map made with rubber stamps   \n",
       "1j0c24s  Very sad news today.\\n\\nWe lost Ernie.\\n\\nSupe...   \n",
       "\n",
       "                                                  selftext  \\\n",
       "1hzjg0b                                                      \n",
       "1i7fiuq  Hi folks,\\n\\nNot that there ever were a lot, b...   \n",
       "1gq0x58  Post was deleted in the main dnd sub, so I'm p...   \n",
       "1h47eod                                                      \n",
       "1j0c24s                                                      \n",
       "\n",
       "                                                  comments subreddit  \\\n",
       "1hzjg0b  (m6q3ewj, m6q2s12, m6rdiqy, m6qm0zs, m6sj3f6, ...       osr   \n",
       "1i7fiuq                                                 ()       osr   \n",
       "1gq0x58  (lwueygo, lwuii5j, lwuf6hw, lwufgcb, lwuji4x, ...       osr   \n",
       "1h47eod  (lzw4dwf, lzw4ueo, lzw4yx8, lzw6qps, lzw9ago, ...       osr   \n",
       "1j0c24s  (mfbb8gl, mfa5mxj, mfa3dct, mfa15b4, mfa060s, ...       osr   \n",
       "\n",
       "          created_utc  \n",
       "1hzjg0b  1736675482.0  \n",
       "1i7fiuq  1737564380.0  \n",
       "1gq0x58  1731460084.0  \n",
       "1h47eod  1733071547.0  \n",
       "1j0c24s  1740760932.0  "
      ]
     },
     "execution_count": 56,
     "metadata": {},
     "output_type": "execute_result"
    }
   ],
   "source": [
    "osr_first_100.head()"
   ]
  },
  {
   "cell_type": "code",
   "execution_count": 58,
   "id": "13008dd7-8611-40e8-992a-17721cfc8094",
   "metadata": {},
   "outputs": [],
   "source": [
    "#storing data frames as I go along\n",
    "#osr_first_100.to_csv(\"./data/osr_0-100.csv\",index= False)\n",
    "#osr_first_100.to_csv(\"./data/osr_100-189.csv\",index= False)\n",
    "osr_first_100.to_csv(\"./data/osr_934-1534.csv\",index= False)"
   ]
  },
  {
   "cell_type": "code",
   "execution_count": 19,
   "id": "115b26c4-ff2e-4cda-b24a-ff6ddc7951c7",
   "metadata": {},
   "outputs": [
    {
     "data": {
      "text/plain": [
       "praw.models.reddit.submission.Submission"
      ]
     },
     "execution_count": 19,
     "metadata": {},
     "output_type": "execute_result"
    }
   ],
   "source": [
    "#type(post)\n",
    "\n",
    "#type Submission"
   ]
  },
  {
   "cell_type": "code",
   "execution_count": null,
   "id": "b3dd6e14-95ff-4150-b952-17303a590258",
   "metadata": {},
   "outputs": [],
   "source": [
    "#post.comments\n",
    "#type CommentForest and can be iterated through (check documenation)"
   ]
  },
  {
   "cell_type": "code",
   "execution_count": null,
   "id": "74c8b3a9-3a3a-468f-ae54-fd6aaf3bd7c4",
   "metadata": {},
   "outputs": [],
   "source": [
    "posts = reddit.subreddit(\"osr\").hot(limit=500)\n"
   ]
  },
  {
   "cell_type": "code",
   "execution_count": null,
   "id": "404365f8-0a1d-49c7-b7e7-678ce391e9ca",
   "metadata": {},
   "outputs": [],
   "source": [
    "osr_dict = {}\n",
    "for post in posts:\n",
    "    osr_dict[post.id] = {\n",
    "             \"title\":post.title,\n",
    "            \"selftext\":post.selftext,\n",
    "            \"comments\":post.comments,\n",
    "            \"subreddit\":post.subreddit,\n",
    "            \"created_utc\":post.created_utc \n",
    "    }"
   ]
  },
  {
   "cell_type": "code",
   "execution_count": null,
   "id": "5d0b0800-2ed8-4231-b8f0-990231299556",
   "metadata": {},
   "outputs": [],
   "source": [
    "len(osr_dict)"
   ]
  },
  {
   "cell_type": "code",
   "execution_count": null,
   "id": "e9fbf0ac-95e4-42a8-83c1-714bbbe7b82e",
   "metadata": {},
   "outputs": [],
   "source": [
    "osr_first_100 = pd.DataFrame(osr_dict).T"
   ]
  },
  {
   "cell_type": "code",
   "execution_count": null,
   "id": "2d3e411b-099b-4e11-bb1a-d9189d0fea3e",
   "metadata": {},
   "outputs": [],
   "source": [
    "osr_first_100.head()"
   ]
  },
  {
   "cell_type": "code",
   "execution_count": null,
   "id": "01ccf428-6ad9-4014-8608-5d7be03d839d",
   "metadata": {},
   "outputs": [],
   "source": []
  }
 ],
 "metadata": {
  "kernelspec": {
   "display_name": "Python 3 (ipykernel)",
   "language": "python",
   "name": "python3"
  },
  "language_info": {
   "codemirror_mode": {
    "name": "ipython",
    "version": 3
   },
   "file_extension": ".py",
   "mimetype": "text/x-python",
   "name": "python",
   "nbconvert_exporter": "python",
   "pygments_lexer": "ipython3",
   "version": "3.12.7"
  }
 },
 "nbformat": 4,
 "nbformat_minor": 5
}
