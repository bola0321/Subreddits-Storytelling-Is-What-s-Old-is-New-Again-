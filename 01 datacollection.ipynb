{
 "cells": [
  {
   "cell_type": "code",
   "execution_count": 2,
   "id": "ea7d76c1-8cc6-409b-bf9d-2be83a10c05a",
   "metadata": {},
   "outputs": [],
   "source": [
    "import praw\n",
    "import pandas as pd"
   ]
  },
  {
   "cell_type": "code",
   "execution_count": 3,
   "id": "4ddce390-f94d-4f87-85b3-e9e3fd4882ae",
   "metadata": {},
   "outputs": [],
   "source": [
    "reddit = praw.Reddit()"
   ]
  },
  {
   "cell_type": "code",
   "execution_count": 36,
   "id": "f9bc5815-0961-45bf-abc6-f25a175a2352",
   "metadata": {},
   "outputs": [],
   "source": [
    "posts = reddit.subreddit(\"osr\").hot(limit=500)\n",
    "\n",
    "#posts = reddit.subreddit(\"osr\").search(\"review\" , limit=600)\n",
    "\n",
    "#for submission in subreddit.search(f'flair:\"{flair_text}\"', sort=\"new\", time_filter=\"all\"):\n",
    "#    print(submission.title, submission.url)\n",
    "\n",
    "#search(query: str, *, sort: str = 'relevance', syntax: str = 'lucene', time_filter: str = 'all', \n",
    "#**generator_kwargs: Any) → Iterator[praw.models.Submission]"
   ]
  },
  {
   "cell_type": "code",
   "execution_count": 37,
   "id": "ad88cad6-d1c2-4c24-bff6-c11bcb4c4ced",
   "metadata": {},
   "outputs": [],
   "source": [
    "#subreddit.search()\n",
    "#post_list = list(posts)"
   ]
  },
  {
   "cell_type": "code",
   "execution_count": 38,
   "id": "8abf1606-3624-4d9b-8167-cf1ed2108723",
   "metadata": {},
   "outputs": [],
   "source": [
    "#post_list[-1]"
   ]
  },
  {
   "cell_type": "code",
   "execution_count": 39,
   "id": "28857391-4d8d-497d-bc7f-3710959e47a5",
   "metadata": {},
   "outputs": [],
   "source": [
    "#reddit"
   ]
  },
  {
   "cell_type": "code",
   "execution_count": 40,
   "id": "7e7339fc-c190-4354-8686-c2013dc15885",
   "metadata": {
    "jupyter": {
     "source_hidden": true
    }
   },
   "outputs": [
    {
     "data": {
      "text/plain": [
       "praw.models.listing.generator.ListingGenerator"
      ]
     },
     "execution_count": 40,
     "metadata": {},
     "output_type": "execute_result"
    }
   ],
   "source": [
    "#list generator, once you access it, they go away. Like  a queue\n",
    "type(posts)"
   ]
  },
  {
   "cell_type": "code",
   "execution_count": 41,
   "id": "5d0fd284-d9db-44b7-8bf9-82bd528c9111",
   "metadata": {
    "scrolled": true
   },
   "outputs": [],
   "source": [
    "osr_dict = {}\n",
    "for post in posts:\n",
    "    osr_dict[post.id] = {\n",
    "             \"title\":post.title,\n",
    "            \"selftext\":post.selftext,\n",
    "            \"comments\":post.comments,\n",
    "            \"subreddit\":post.subreddit,\n",
    "            \"created_utc\":post.created_utc \n",
    "    }\n",
    "\n",
    "\n",
    "#make sure to save your return to a separate variable\n",
    "\n",
    "#each call is limited to 100 items being returned at a time\n",
    "#reddit is limited to 1000 regardless\n",
    "\n",
    "#need more? try a diffrerent sorting order\n",
    "# collect 1000 per day"
   ]
  },
  {
   "cell_type": "code",
   "execution_count": 42,
   "id": "65782a2f-de4c-4f1f-a40e-d4d9fb0bcd09",
   "metadata": {},
   "outputs": [
    {
     "data": {
      "text/plain": [
       "500"
      ]
     },
     "execution_count": 42,
     "metadata": {},
     "output_type": "execute_result"
    }
   ],
   "source": [
    "len(osr_dict)"
   ]
  },
  {
   "cell_type": "code",
   "execution_count": 43,
   "id": "64c435f8-9d6d-43f5-a74c-64842cd4adb9",
   "metadata": {},
   "outputs": [],
   "source": [
    "osr_first_100 = pd.DataFrame(osr_dict).T"
   ]
  },
  {
   "cell_type": "code",
   "execution_count": 44,
   "id": "a985b469-6dc6-44bc-861b-c183cd7f3269",
   "metadata": {},
   "outputs": [
    {
     "data": {
      "text/html": [
       "<div>\n",
       "<style scoped>\n",
       "    .dataframe tbody tr th:only-of-type {\n",
       "        vertical-align: middle;\n",
       "    }\n",
       "\n",
       "    .dataframe tbody tr th {\n",
       "        vertical-align: top;\n",
       "    }\n",
       "\n",
       "    .dataframe thead th {\n",
       "        text-align: right;\n",
       "    }\n",
       "</style>\n",
       "<table border=\"1\" class=\"dataframe\">\n",
       "  <thead>\n",
       "    <tr style=\"text-align: right;\">\n",
       "      <th></th>\n",
       "      <th>title</th>\n",
       "      <th>selftext</th>\n",
       "      <th>comments</th>\n",
       "      <th>subreddit</th>\n",
       "      <th>created_utc</th>\n",
       "    </tr>\n",
       "  </thead>\n",
       "  <tbody>\n",
       "    <tr>\n",
       "      <th>1i2ifav</th>\n",
       "      <td>OSR LFG: Official Regular Looking especially f...</td>\n",
       "      <td>Hi all, \\n\\nIt has been stated that it's hard ...</td>\n",
       "      <td>(m840g5x, m8lmjau, mdyo9a9, mahsdq5, mbhmshc, ...</td>\n",
       "      <td>osr</td>\n",
       "      <td>1737007288.0</td>\n",
       "    </tr>\n",
       "    <tr>\n",
       "      <th>1ja4iek</th>\n",
       "      <td>OSR LFG: Official Regular Looking especially f...</td>\n",
       "      <td>Hi all, \\n\\nIt has been stated that it's hard ...</td>\n",
       "      <td>(mhlnwu6, mhu36h6, mhoiq1h, mhv6jdn, mhsvia4, ...</td>\n",
       "      <td>osr</td>\n",
       "      <td>1741842089.0</td>\n",
       "    </tr>\n",
       "    <tr>\n",
       "      <th>1jdhpwf</th>\n",
       "      <td>FREE SÖRD!</td>\n",
       "      <td></td>\n",
       "      <td>(miasc2c, mibnj2g, mic3lwv, mic7fs1)</td>\n",
       "      <td>osr</td>\n",
       "      <td>1742230983.0</td>\n",
       "    </tr>\n",
       "    <tr>\n",
       "      <th>1jdq4he</th>\n",
       "      <td>I wrote about how Citadel Miniatures used to m...</td>\n",
       "      <td>So back in the early days of Games Workshop th...</td>\n",
       "      <td>(micj2kh)</td>\n",
       "      <td>osr</td>\n",
       "      <td>1742251426.0</td>\n",
       "    </tr>\n",
       "    <tr>\n",
       "      <th>1jd8na3</th>\n",
       "      <td>Ireland Hex Maps</td>\n",
       "      <td></td>\n",
       "      <td>(mi8dxv5, mi8feom, mi8gx4c, mi8qysb, mi8irm7, ...</td>\n",
       "      <td>osr</td>\n",
       "      <td>1742203846.0</td>\n",
       "    </tr>\n",
       "  </tbody>\n",
       "</table>\n",
       "</div>"
      ],
      "text/plain": [
       "                                                     title  \\\n",
       "1i2ifav  OSR LFG: Official Regular Looking especially f...   \n",
       "1ja4iek  OSR LFG: Official Regular Looking especially f...   \n",
       "1jdhpwf                                         FREE SÖRD!   \n",
       "1jdq4he  I wrote about how Citadel Miniatures used to m...   \n",
       "1jd8na3                                   Ireland Hex Maps   \n",
       "\n",
       "                                                  selftext  \\\n",
       "1i2ifav  Hi all, \\n\\nIt has been stated that it's hard ...   \n",
       "1ja4iek  Hi all, \\n\\nIt has been stated that it's hard ...   \n",
       "1jdhpwf                                                      \n",
       "1jdq4he  So back in the early days of Games Workshop th...   \n",
       "1jd8na3                                                      \n",
       "\n",
       "                                                  comments subreddit  \\\n",
       "1i2ifav  (m840g5x, m8lmjau, mdyo9a9, mahsdq5, mbhmshc, ...       osr   \n",
       "1ja4iek  (mhlnwu6, mhu36h6, mhoiq1h, mhv6jdn, mhsvia4, ...       osr   \n",
       "1jdhpwf               (miasc2c, mibnj2g, mic3lwv, mic7fs1)       osr   \n",
       "1jdq4he                                          (micj2kh)       osr   \n",
       "1jd8na3  (mi8dxv5, mi8feom, mi8gx4c, mi8qysb, mi8irm7, ...       osr   \n",
       "\n",
       "          created_utc  \n",
       "1i2ifav  1737007288.0  \n",
       "1ja4iek  1741842089.0  \n",
       "1jdhpwf  1742230983.0  \n",
       "1jdq4he  1742251426.0  \n",
       "1jd8na3  1742203846.0  "
      ]
     },
     "execution_count": 44,
     "metadata": {},
     "output_type": "execute_result"
    }
   ],
   "source": [
    "osr_first_100.head()"
   ]
  },
  {
   "cell_type": "code",
   "execution_count": 45,
   "id": "13008dd7-8611-40e8-992a-17721cfc8094",
   "metadata": {},
   "outputs": [],
   "source": [
    "#storing data frames as I go along\n",
    "#osr_first_100.to_csv(\"./data/osr_0-100.csv\",index= False)\n",
    "#osr_first_100.to_csv(\"./data/osr_100-189.csv\",index= False)\n",
    "osr_first_100.to_csv(\"./data/osr_433-933.csv\",index= False)"
   ]
  },
  {
   "cell_type": "code",
   "execution_count": 19,
   "id": "115b26c4-ff2e-4cda-b24a-ff6ddc7951c7",
   "metadata": {},
   "outputs": [
    {
     "data": {
      "text/plain": [
       "praw.models.reddit.submission.Submission"
      ]
     },
     "execution_count": 19,
     "metadata": {},
     "output_type": "execute_result"
    }
   ],
   "source": [
    "type(post)\n",
    "\n",
    "#type Submission"
   ]
  },
  {
   "cell_type": "code",
   "execution_count": null,
   "id": "b3dd6e14-95ff-4150-b952-17303a590258",
   "metadata": {},
   "outputs": [],
   "source": [
    "post.comments\n",
    "#type CommentForest and can be iterated through (check documenation)"
   ]
  }
 ],
 "metadata": {
  "kernelspec": {
   "display_name": "Python 3 (ipykernel)",
   "language": "python",
   "name": "python3"
  },
  "language_info": {
   "codemirror_mode": {
    "name": "ipython",
    "version": 3
   },
   "file_extension": ".py",
   "mimetype": "text/x-python",
   "name": "python",
   "nbconvert_exporter": "python",
   "pygments_lexer": "ipython3",
   "version": "3.12.7"
  }
 },
 "nbformat": 4,
 "nbformat_minor": 5
}
