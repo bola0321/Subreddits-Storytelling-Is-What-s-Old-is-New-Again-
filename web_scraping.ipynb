{
 "cells": [
  {
   "cell_type": "code",
   "execution_count": 1,
   "id": "ea7d76c1-8cc6-409b-bf9d-2be83a10c05a",
   "metadata": {},
   "outputs": [],
   "source": [
    "import praw"
   ]
  },
  {
   "cell_type": "code",
   "execution_count": 2,
   "id": "4ddce390-f94d-4f87-85b3-e9e3fd4882ae",
   "metadata": {},
   "outputs": [],
   "source": [
    "reddit = praw.Reddit()"
   ]
  },
  {
   "cell_type": "code",
   "execution_count": 3,
   "id": "f9bc5815-0961-45bf-abc6-f25a175a2352",
   "metadata": {},
   "outputs": [],
   "source": [
    "posts = reddit.subreddit(\"boardgames\").new(limit=10)"
   ]
  },
  {
   "cell_type": "code",
   "execution_count": 4,
   "id": "28857391-4d8d-497d-bc7f-3710959e47a5",
   "metadata": {},
   "outputs": [
    {
     "data": {
      "text/plain": [
       "<praw.reddit.Reddit at 0x121926ba0>"
      ]
     },
     "execution_count": 4,
     "metadata": {},
     "output_type": "execute_result"
    }
   ],
   "source": [
    "reddit"
   ]
  },
  {
   "cell_type": "code",
   "execution_count": 5,
   "id": "7e7339fc-c190-4354-8686-c2013dc15885",
   "metadata": {},
   "outputs": [
    {
     "data": {
      "text/plain": [
       "praw.models.listing.generator.ListingGenerator"
      ]
     },
     "execution_count": 5,
     "metadata": {},
     "output_type": "execute_result"
    }
   ],
   "source": [
    "#list generator, once you access it, they go away. Like  a queue\n",
    "type(posts)"
   ]
  },
  {
   "cell_type": "code",
   "execution_count": 6,
   "id": "5d0fd284-d9db-44b7-8bf9-82bd528c9111",
   "metadata": {},
   "outputs": [
    {
     "name": "stdout",
     "output_type": "stream",
     "text": [
      "Garden Canasta is a reimagining of our family’s favorite classic card games\n",
      "Garden Canasta is all about planting sets of fruits and veggies, harvesting points, and outgrowing the competition, with just the right mix of strategy and fun.\n",
      "\n",
      "Whether you love board games, gardening, or just discovering unique indie games, we’d love to hear what you think!\n",
      "\n",
      "Kickstarter Link: https://www.kickstarter.com/projects/boardgaming/garden-canasta?ref=4y3hgp\n",
      "Trailer Video: https://youtu.be/1wp-vONVqQo\n",
      "Unboxing Video: https://youtu.be/0ntgd1Husrs\n",
      "boardgames\n",
      "1741884435.0\n",
      "--------------------\n",
      "2025 Jack Vasel Memorial Fund Charity Auction has started\n",
      "**The 2025 Charity auction is now live on BoardGameGeek:**\n",
      "\n",
      "[Jack Vasel Memorial Fund Auction 2025](https://boardgamegeek.com/geeklist/352917/the-jack-vasel-memorial-fund-auction-2025-through)\n",
      "\n",
      "**March 13th - March 30th**\n",
      "\n",
      "**What is the Jack Vasel Memorial Fund?**\n",
      "\n",
      "The Jack Vasel Memorial Fund was started in April, 2011, in memory  of Jack Vasel, son of Tom Vasel. Tom is an influential voice in the  board gaming hobby, and the community rallied around him in his time of  need. All  proceeds from the auction go to the Jack Vasel Memorial Fund.  The fund  is a not-for-profit with a simple goal: raising and  distributing funds  to help gamers in their hour of need. Visit [JackVasel.org](http://jackvasel.org/) for more information.\n",
      "\n",
      "**If you (or someone you know) are a member of the gaming community who has suffered a personal hardship**, please contact the Jack Vasel Memorial Fund. Tom and the rest of the  Board of Directors are happy to work with you to explain our eligibility  criteria, confirm your situation is within our mission statement, and  then provide assistance.\n",
      "\n",
      "[You can fill out an application for help online here](http://jackvasel.org/apply)\n",
      "boardgames\n",
      "1741882678.0\n",
      "--------------------\n",
      "Ares Expedition\n",
      "Recently I purchased Terraforming Mars: Ares Expedition and saw that it has three expansions: Foundation, Crisis, and Discovery. Should I get all of them?\n",
      "boardgames\n",
      "1741882844.0\n",
      "--------------------\n",
      "Have anyone tried to find out the maximum point possible in castle combo\n",
      "Have anyone tried to play castle combo to achieve the highest potensial score possible. \n",
      "\n",
      "\n",
      "boardgames\n",
      "1741882431.0\n",
      "--------------------\n",
      "I saw Azul on clearance for $16 and impulsively purchased. Never played the game, but I heard it was good?\n",
      "Should I return or keep?\n",
      "boardgames\n",
      "1741881654.0\n",
      "--------------------\n",
      "Earth: abundance - modifications to increase interactivity\n",
      "I have been enjoying Earth for some time and I was thinking about some potential changes to rules in order to enhance some aspects, in particular interactivity with other players. The abundance introduces some elements of interactivity but still limited to some extent to my opinion. moreover thinking about games like 7wonders where some actions may disrupt other player's plans.\n",
      "\n",
      "  \n",
      "Here's my thoughts and open for feedback.\n",
      "\n",
      "1) when taking one of the 4 actions (plant, compost, water, grow) i would consider an alternative action, that could be chosen instead of the standard one, using the seeds mechanics. (picture below)\n",
      "\n",
      "a) **spend one seed: plant one card on the board from your hand and the second from one of the neighbors hand**. since there are a lot of common objectives (fauna or ecosystem), my opponent may have cards that can be useful to me. by stealing that card from their hand i can fulfill my plans and disrupt others\n",
      "\n",
      "b) s**pend one seed: add 2 soil and add to my hand one card from the personal compost of another player.** if another player has a personal compost deck with lots of cards this will enhance the possibility to find a card I need. moreover, since composting deck are built with a mix of discarded cards from hand and picked from the main deck, I still have some unknown element when searching an opponent personal compost.\n",
      "\n",
      "c) **spend one seed: take two sprouts out of an opponent board and put them on my board**. \n",
      "\n",
      "d) **spend one seed: grow 2 and take one card from a neighbor hand**. similar advantages to case a), but i will keep the card in my hand instead of planting it. maybe I will never plant it but if it's a card that may give advantages to the opponent i may disrupt their plan \n",
      "\n",
      "https://preview.redd.it/q3yevd16paoe1.jpg?width=1058&format=pjpg&auto=webp&s=33b3eced29816ea2dcdffce89c65a592fa8dab03\n",
      "\n",
      "2) this second variation alters the mechanic a bit more, so still thinking if it makes sense.  I often see no rationale in the choice I make in laying sprouts (the green cubes I earn) on the board. the only reason driving the choice is to leave space for any potential adjacency rules, but for the rest of the time I use to lay them down casually. to introduce a logic I was thinking of this additional rule. \"*you can only grow plants on a card if you have at least one sprout on that card*\" in the rare cases a card has grow space only (e.g. Tulips) i can grow the plant without any cube, but if the card has both (most of the cases) i cannot grow there if i do not have at least one sprout. thematically speaking it would make sense, because i cannot think growing a plant before it even started making its little sprouts out of the ground. Additionally, consider this \"*if for any reason  the sprouts on the cards are removed, any plant grown on that card needs to be removed*\" this may interact well with the interactive action c) above, so i can take out green cubes from an opponent on a card where there is a grown plant, and wipe out also the grown plant, affecting the opponent points to a significant extent.\n",
      "\n",
      "  \n",
      "any comment is welcome!\n",
      "boardgames\n",
      "1741801769.0\n",
      "--------------------\n",
      "Command of Nature rules help\n",
      "Hiya, just need some help with a card interaction. Smoking boom says you “Use your sage to deal damage equal to your sage’s strength to up to 3 elementals in your opponent’s row 1 and row 2” and Natural Restoration says “play this card when an elemental in your formation is attacked. Reduce the damage dealt by 1”\n",
      "\n",
      "Would natural restoration reduce the damage dealt to 1 of the 3 elements targeted by smoking boom, or reduce the damage dealt to all of them. \n",
      "\n",
      "Thanks \n",
      "boardgames\n",
      "1741881262.0\n",
      "--------------------\n",
      "Does anyone know what these numbers mean on the back of my families Clue cards?\n",
      "Every card has 00045 on it, so I was wondering if it was edition number or something?\n",
      "boardgames\n",
      "1741825864.0\n",
      "--------------------\n",
      "What do you prefer; meeples, standees, or minis?\n",
      "Personally, I’m a fan of meeples. It seems like nearly every crowdfunding game is packed with miniatures these days, but to be fair, that’s what backers seem to want. I’m hoping this trend fades, but I feel like I’m in the minority. How about you? Do you love or hate minis? Does it depend on the game?\n",
      "boardgames\n",
      "1741881192.0\n",
      "--------------------\n",
      "Should I get clank or root\n",
      "Which one is beeter/more suited towards me?\n",
      "I love games where you compete with others players/can screw them in various ways. Titles ive specially enjoyed are hero realms, 7 wonders, Dice throne and unmatched\n",
      "boardgames\n",
      "1741881041.0\n",
      "--------------------\n"
     ]
    }
   ],
   "source": [
    "for post in posts:\n",
    "    print(post.title)\n",
    "    print(post.selftext)\n",
    "    print(post.subreddit)\n",
    "    print(post.created_utc)\n",
    "    print(\"-\" *20)\n",
    "\n",
    "\n",
    "#make sure to save your return to a separate variable\n",
    "\n",
    "#each call is limited to 100 items being returned at a time\n",
    "#reddit is limited to 1000 regardless\n",
    "\n",
    "#need more? try a diffrerent sorting order\n",
    "# collect 1000 per day"
   ]
  },
  {
   "cell_type": "code",
   "execution_count": null,
   "id": "115b26c4-ff2e-4cda-b24a-ff6ddc7951c7",
   "metadata": {},
   "outputs": [],
   "source": [
    "type(post)\n",
    "\n",
    "#type Submission"
   ]
  },
  {
   "cell_type": "code",
   "execution_count": null,
   "id": "b3dd6e14-95ff-4150-b952-17303a590258",
   "metadata": {},
   "outputs": [],
   "source": [
    "post.comments\n",
    "#type CommentForest and can be iterated through (check documenation)"
   ]
  }
 ],
 "metadata": {
  "kernelspec": {
   "display_name": "Python 3 (ipykernel)",
   "language": "python",
   "name": "python3"
  },
  "language_info": {
   "codemirror_mode": {
    "name": "ipython",
    "version": 3
   },
   "file_extension": ".py",
   "mimetype": "text/x-python",
   "name": "python",
   "nbconvert_exporter": "python",
   "pygments_lexer": "ipython3",
   "version": "3.12.7"
  }
 },
 "nbformat": 4,
 "nbformat_minor": 5
}
