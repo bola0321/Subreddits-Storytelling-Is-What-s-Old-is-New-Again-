{
 "cells": [
  {
   "cell_type": "code",
   "execution_count": 44,
   "id": "ea7d76c1-8cc6-409b-bf9d-2be83a10c05a",
   "metadata": {},
   "outputs": [],
   "source": [
    "import praw\n",
    "import pandas as pd"
   ]
  },
  {
   "cell_type": "code",
   "execution_count": 37,
   "id": "4ddce390-f94d-4f87-85b3-e9e3fd4882ae",
   "metadata": {},
   "outputs": [],
   "source": [
    "reddit = praw.Reddit()"
   ]
  },
  {
   "cell_type": "code",
   "execution_count": 38,
   "id": "f9bc5815-0961-45bf-abc6-f25a175a2352",
   "metadata": {},
   "outputs": [],
   "source": [
    "posts = reddit.subreddit(\"osr\").search(\"flair:review\")\n",
    "\n",
    "#for submission in subreddit.search(f'flair:\"{flair_text}\"', sort=\"new\", time_filter=\"all\"):\n",
    "#    print(submission.title, submission.url)"
   ]
  },
  {
   "cell_type": "code",
   "execution_count": 39,
   "id": "28857391-4d8d-497d-bc7f-3710959e47a5",
   "metadata": {},
   "outputs": [
    {
     "data": {
      "text/plain": [
       "<praw.reddit.Reddit at 0x104a1bd10>"
      ]
     },
     "execution_count": 39,
     "metadata": {},
     "output_type": "execute_result"
    }
   ],
   "source": [
    "reddit"
   ]
  },
  {
   "cell_type": "code",
   "execution_count": 40,
   "id": "7e7339fc-c190-4354-8686-c2013dc15885",
   "metadata": {},
   "outputs": [
    {
     "data": {
      "text/plain": [
       "praw.models.listing.generator.ListingGenerator"
      ]
     },
     "execution_count": 40,
     "metadata": {},
     "output_type": "execute_result"
    }
   ],
   "source": [
    "#list generator, once you access it, they go away. Like  a queue\n",
    "type(posts)"
   ]
  },
  {
   "cell_type": "code",
   "execution_count": 41,
   "id": "5d0fd284-d9db-44b7-8bf9-82bd528c9111",
   "metadata": {
    "scrolled": true
   },
   "outputs": [],
   "source": [
    "osr_dict = {}\n",
    "for post in posts:\n",
    "    osr_dict[post.id] = {\n",
    "             \"title\":post.title,\n",
    "            \"selftext\":post.selftext,\n",
    "            \"comments\":post.comments,\n",
    "            \"subreddit\":post.subreddit,\n",
    "            \"created_utc\":post.created_utc \n",
    "    }\n",
    "\n",
    "\n",
    "#make sure to save your return to a separate variable\n",
    "\n",
    "#each call is limited to 100 items being returned at a time\n",
    "#reddit is limited to 1000 regardless\n",
    "\n",
    "#need more? try a diffrerent sorting order\n",
    "# collect 1000 per day"
   ]
  },
  {
   "cell_type": "code",
   "execution_count": 42,
   "id": "65782a2f-de4c-4f1f-a40e-d4d9fb0bcd09",
   "metadata": {},
   "outputs": [
    {
     "data": {
      "text/plain": [
       "100"
      ]
     },
     "execution_count": 42,
     "metadata": {},
     "output_type": "execute_result"
    }
   ],
   "source": [
    "len(osr_dict)"
   ]
  },
  {
   "cell_type": "code",
   "execution_count": 47,
   "id": "64c435f8-9d6d-43f5-a74c-64842cd4adb9",
   "metadata": {},
   "outputs": [],
   "source": [
    "osr_first_100 = pd.DataFrame(osr_dict).T"
   ]
  },
  {
   "cell_type": "code",
   "execution_count": 48,
   "id": "13008dd7-8611-40e8-992a-17721cfc8094",
   "metadata": {},
   "outputs": [],
   "source": [
    "#storing data frames as I go along\n",
    "#osr_first_100.to_csv(\"./data/osr_0-100.csv\",index= False)\n",
    "osr_first_100.to_csv(\"./data/osr_0-100.csv\",index= False)"
   ]
  },
  {
   "cell_type": "code",
   "execution_count": 19,
   "id": "115b26c4-ff2e-4cda-b24a-ff6ddc7951c7",
   "metadata": {},
   "outputs": [
    {
     "data": {
      "text/plain": [
       "praw.models.reddit.submission.Submission"
      ]
     },
     "execution_count": 19,
     "metadata": {},
     "output_type": "execute_result"
    }
   ],
   "source": [
    "type(post)\n",
    "\n",
    "#type Submission"
   ]
  },
  {
   "cell_type": "code",
   "execution_count": null,
   "id": "b3dd6e14-95ff-4150-b952-17303a590258",
   "metadata": {},
   "outputs": [],
   "source": [
    "post.comments\n",
    "#type CommentForest and can be iterated through (check documenation)"
   ]
  }
 ],
 "metadata": {
  "kernelspec": {
   "display_name": "Python 3 (ipykernel)",
   "language": "python",
   "name": "python3"
  },
  "language_info": {
   "codemirror_mode": {
    "name": "ipython",
    "version": 3
   },
   "file_extension": ".py",
   "mimetype": "text/x-python",
   "name": "python",
   "nbconvert_exporter": "python",
   "pygments_lexer": "ipython3",
   "version": "3.12.7"
  }
 },
 "nbformat": 4,
 "nbformat_minor": 5
}
